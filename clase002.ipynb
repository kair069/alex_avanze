{
 "cells": [
  {
   "cell_type": "code",
   "execution_count": null,
   "metadata": {},
   "outputs": [],
   "source": [
    "# Establecer el directorio de trabajo\n",
    "setwd(\"C:/Users/Acer/Documents/carpeta_zi\")\n",
    "\n",
    "# Listar los archivos en el directorio\n",
    "files <- list.files()\n",
    "print(files)\n",
    "\n",
    "\n",
    "trajan <- as.data.frame(readRDS('trajan_recoded.rds'))\n",
    "View(trajan)\n"
   ]
  }
 ],
 "metadata": {
  "language_info": {
   "name": "python"
  },
  "orig_nbformat": 4
 },
 "nbformat": 4,
 "nbformat_minor": 2
}
